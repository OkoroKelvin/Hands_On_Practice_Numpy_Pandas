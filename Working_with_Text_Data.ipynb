{
 "cells": [
  {
   "cell_type": "code",
   "execution_count": 3,
   "id": "a1154ba2",
   "metadata": {},
   "outputs": [],
   "source": [
    "import numpy as np\n",
    "import pandas as pd"
   ]
  },
  {
   "cell_type": "code",
   "execution_count": 4,
   "id": "fc2db21c",
   "metadata": {},
   "outputs": [],
   "source": [
    "detail = {'Name': ['Ibrahim Musa', 'Emeka Jude', 'Emmanuel Ayomide','Nnamdi Ike'],\n",
    "         'Age':[24,25,27,24],\n",
    "         'Course': ['Physics','Statistics','Mathematics','Chemistry'],\n",
    "         'Sport':['Football','Volletball','Swimming','BasketBall'],\n",
    "         'Amount':['20000','25000','20000','456000']}"
   ]
  },
  {
   "cell_type": "code",
   "execution_count": 5,
   "id": "12d3f519",
   "metadata": {},
   "outputs": [],
   "source": [
    "new_table = pd.DataFrame(detail)"
   ]
  },
  {
   "cell_type": "code",
   "execution_count": 6,
   "id": "db5f84a3",
   "metadata": {},
   "outputs": [
    {
     "data": {
      "text/html": [
       "<div>\n",
       "<style scoped>\n",
       "    .dataframe tbody tr th:only-of-type {\n",
       "        vertical-align: middle;\n",
       "    }\n",
       "\n",
       "    .dataframe tbody tr th {\n",
       "        vertical-align: top;\n",
       "    }\n",
       "\n",
       "    .dataframe thead th {\n",
       "        text-align: right;\n",
       "    }\n",
       "</style>\n",
       "<table border=\"1\" class=\"dataframe\">\n",
       "  <thead>\n",
       "    <tr style=\"text-align: right;\">\n",
       "      <th></th>\n",
       "      <th>Name</th>\n",
       "      <th>Age</th>\n",
       "      <th>Course</th>\n",
       "      <th>Sport</th>\n",
       "      <th>Amount</th>\n",
       "    </tr>\n",
       "  </thead>\n",
       "  <tbody>\n",
       "    <tr>\n",
       "      <th>0</th>\n",
       "      <td>Ibrahim Musa</td>\n",
       "      <td>24</td>\n",
       "      <td>Physics</td>\n",
       "      <td>Football</td>\n",
       "      <td>20000</td>\n",
       "    </tr>\n",
       "    <tr>\n",
       "      <th>1</th>\n",
       "      <td>Emeka Jude</td>\n",
       "      <td>25</td>\n",
       "      <td>Statistics</td>\n",
       "      <td>Volletball</td>\n",
       "      <td>25000</td>\n",
       "    </tr>\n",
       "    <tr>\n",
       "      <th>2</th>\n",
       "      <td>Emmanuel Ayomide</td>\n",
       "      <td>27</td>\n",
       "      <td>Mathematics</td>\n",
       "      <td>Swimming</td>\n",
       "      <td>20000</td>\n",
       "    </tr>\n",
       "    <tr>\n",
       "      <th>3</th>\n",
       "      <td>Nnamdi Ike</td>\n",
       "      <td>24</td>\n",
       "      <td>Chemistry</td>\n",
       "      <td>BasketBall</td>\n",
       "      <td>456000</td>\n",
       "    </tr>\n",
       "  </tbody>\n",
       "</table>\n",
       "</div>"
      ],
      "text/plain": [
       "               Name  Age       Course       Sport  Amount\n",
       "0      Ibrahim Musa   24      Physics    Football   20000\n",
       "1        Emeka Jude   25   Statistics  Volletball   25000\n",
       "2  Emmanuel Ayomide   27  Mathematics    Swimming   20000\n",
       "3        Nnamdi Ike   24    Chemistry  BasketBall  456000"
      ]
     },
     "execution_count": 6,
     "metadata": {},
     "output_type": "execute_result"
    }
   ],
   "source": [
    "new_table"
   ]
  },
  {
   "cell_type": "code",
   "execution_count": 11,
   "id": "36f1dcf5",
   "metadata": {},
   "outputs": [
    {
     "data": {
      "text/plain": [
       "0        IBRAHIM MUSA\n",
       "1          EMEKA JUDE\n",
       "2    EMMANUEL AYOMIDE\n",
       "3          NNAMDI IKE\n",
       "Name: Name, dtype: object"
      ]
     },
     "execution_count": 11,
     "metadata": {},
     "output_type": "execute_result"
    }
   ],
   "source": [
    "new_table['Name'].str.upper()"
   ]
  },
  {
   "cell_type": "code",
   "execution_count": 13,
   "id": "124b278a",
   "metadata": {},
   "outputs": [
    {
     "data": {
      "text/plain": [
       "'Ibrahim Musa_Emeka Jude_Emmanuel Ayomide_Nnamdi Ike'"
      ]
     },
     "execution_count": 13,
     "metadata": {},
     "output_type": "execute_result"
    }
   ],
   "source": [
    "new_table['Name'].str.cat(sep='_')"
   ]
  },
  {
   "cell_type": "code",
   "execution_count": 14,
   "id": "bb3d683d",
   "metadata": {},
   "outputs": [
    {
     "data": {
      "text/plain": [
       "['we', 'are', 'learning', 'pandas']"
      ]
     },
     "execution_count": 14,
     "metadata": {},
     "output_type": "execute_result"
    }
   ],
   "source": [
    "\"we are learning pandas\".split(\" \")"
   ]
  },
  {
   "cell_type": "code",
   "execution_count": 15,
   "id": "d06947b4",
   "metadata": {},
   "outputs": [
    {
     "data": {
      "text/plain": [
       "0        [Ibrahim, Musa]\n",
       "1          [Emeka, Jude]\n",
       "2    [Emmanuel, Ayomide]\n",
       "3          [Nnamdi, Ike]\n",
       "Name: Name, dtype: object"
      ]
     },
     "execution_count": 15,
     "metadata": {},
     "output_type": "execute_result"
    }
   ],
   "source": [
    "new_table['Name'].str.split(\" \")"
   ]
  },
  {
   "cell_type": "code",
   "execution_count": 18,
   "id": "515227a1",
   "metadata": {},
   "outputs": [
    {
     "data": {
      "text/plain": [
       "0     Ibrahim\n",
       "1       Emeka\n",
       "2    Emmanuel\n",
       "3      Nnamdi\n",
       "Name: Name, dtype: object"
      ]
     },
     "execution_count": 18,
     "metadata": {},
     "output_type": "execute_result"
    }
   ],
   "source": [
    "new_table['Name'].str.split(\" \").str.get(0)"
   ]
  },
  {
   "cell_type": "code",
   "execution_count": 21,
   "id": "590864db",
   "metadata": {},
   "outputs": [],
   "source": [
    "new_table[['First Name' , 'Last Name']] = new_table['Name'].str.split(' ',expand = True)"
   ]
  },
  {
   "cell_type": "code",
   "execution_count": 22,
   "id": "f7351814",
   "metadata": {},
   "outputs": [
    {
     "data": {
      "text/html": [
       "<div>\n",
       "<style scoped>\n",
       "    .dataframe tbody tr th:only-of-type {\n",
       "        vertical-align: middle;\n",
       "    }\n",
       "\n",
       "    .dataframe tbody tr th {\n",
       "        vertical-align: top;\n",
       "    }\n",
       "\n",
       "    .dataframe thead th {\n",
       "        text-align: right;\n",
       "    }\n",
       "</style>\n",
       "<table border=\"1\" class=\"dataframe\">\n",
       "  <thead>\n",
       "    <tr style=\"text-align: right;\">\n",
       "      <th></th>\n",
       "      <th>Name</th>\n",
       "      <th>Age</th>\n",
       "      <th>Course</th>\n",
       "      <th>Sport</th>\n",
       "      <th>Amount</th>\n",
       "      <th>First Name</th>\n",
       "      <th>Last Name</th>\n",
       "    </tr>\n",
       "  </thead>\n",
       "  <tbody>\n",
       "    <tr>\n",
       "      <th>0</th>\n",
       "      <td>Ibrahim Musa</td>\n",
       "      <td>24</td>\n",
       "      <td>Physics</td>\n",
       "      <td>Football</td>\n",
       "      <td>20000</td>\n",
       "      <td>Ibrahim</td>\n",
       "      <td>Musa</td>\n",
       "    </tr>\n",
       "    <tr>\n",
       "      <th>1</th>\n",
       "      <td>Emeka Jude</td>\n",
       "      <td>25</td>\n",
       "      <td>Statistics</td>\n",
       "      <td>Volletball</td>\n",
       "      <td>25000</td>\n",
       "      <td>Emeka</td>\n",
       "      <td>Jude</td>\n",
       "    </tr>\n",
       "    <tr>\n",
       "      <th>2</th>\n",
       "      <td>Emmanuel Ayomide</td>\n",
       "      <td>27</td>\n",
       "      <td>Mathematics</td>\n",
       "      <td>Swimming</td>\n",
       "      <td>20000</td>\n",
       "      <td>Emmanuel</td>\n",
       "      <td>Ayomide</td>\n",
       "    </tr>\n",
       "    <tr>\n",
       "      <th>3</th>\n",
       "      <td>Nnamdi Ike</td>\n",
       "      <td>24</td>\n",
       "      <td>Chemistry</td>\n",
       "      <td>BasketBall</td>\n",
       "      <td>456000</td>\n",
       "      <td>Nnamdi</td>\n",
       "      <td>Ike</td>\n",
       "    </tr>\n",
       "  </tbody>\n",
       "</table>\n",
       "</div>"
      ],
      "text/plain": [
       "               Name  Age       Course       Sport  Amount First Name Last Name\n",
       "0      Ibrahim Musa   24      Physics    Football   20000    Ibrahim      Musa\n",
       "1        Emeka Jude   25   Statistics  Volletball   25000      Emeka      Jude\n",
       "2  Emmanuel Ayomide   27  Mathematics    Swimming   20000   Emmanuel   Ayomide\n",
       "3        Nnamdi Ike   24    Chemistry  BasketBall  456000     Nnamdi       Ike"
      ]
     },
     "execution_count": 22,
     "metadata": {},
     "output_type": "execute_result"
    }
   ],
   "source": [
    "new_table"
   ]
  },
  {
   "cell_type": "code",
   "execution_count": 23,
   "id": "070388fc",
   "metadata": {},
   "outputs": [
    {
     "data": {
      "text/html": [
       "<div>\n",
       "<style scoped>\n",
       "    .dataframe tbody tr th:only-of-type {\n",
       "        vertical-align: middle;\n",
       "    }\n",
       "\n",
       "    .dataframe tbody tr th {\n",
       "        vertical-align: top;\n",
       "    }\n",
       "\n",
       "    .dataframe thead th {\n",
       "        text-align: right;\n",
       "    }\n",
       "</style>\n",
       "<table border=\"1\" class=\"dataframe\">\n",
       "  <thead>\n",
       "    <tr style=\"text-align: right;\">\n",
       "      <th></th>\n",
       "      <th>Name</th>\n",
       "      <th>Age</th>\n",
       "      <th>Course</th>\n",
       "      <th>Sport</th>\n",
       "      <th>Amount</th>\n",
       "      <th>First Name</th>\n",
       "      <th>Last Name</th>\n",
       "    </tr>\n",
       "  </thead>\n",
       "  <tbody>\n",
       "    <tr>\n",
       "      <th>0</th>\n",
       "      <td>Ibrahim Musa</td>\n",
       "      <td>24</td>\n",
       "      <td>Physics</td>\n",
       "      <td>Football</td>\n",
       "      <td>20000</td>\n",
       "      <td>Ibrahim</td>\n",
       "      <td>Musa</td>\n",
       "    </tr>\n",
       "    <tr>\n",
       "      <th>1</th>\n",
       "      <td>Emeka Jude</td>\n",
       "      <td>25</td>\n",
       "      <td>Statistics</td>\n",
       "      <td>Volletball</td>\n",
       "      <td>25000</td>\n",
       "      <td>Emeka</td>\n",
       "      <td>Jude</td>\n",
       "    </tr>\n",
       "    <tr>\n",
       "      <th>2</th>\n",
       "      <td>Emmanuel Ayomide</td>\n",
       "      <td>27</td>\n",
       "      <td>Mathematics</td>\n",
       "      <td>Swimming</td>\n",
       "      <td>20000</td>\n",
       "      <td>Emmanuel</td>\n",
       "      <td>Ayomide</td>\n",
       "    </tr>\n",
       "    <tr>\n",
       "      <th>3</th>\n",
       "      <td>Nnamdi Ike</td>\n",
       "      <td>24</td>\n",
       "      <td>Chemistry</td>\n",
       "      <td>BasketBall</td>\n",
       "      <td>456000</td>\n",
       "      <td>Nnamdi</td>\n",
       "      <td>Ike</td>\n",
       "    </tr>\n",
       "  </tbody>\n",
       "</table>\n",
       "</div>"
      ],
      "text/plain": [
       "               Name  Age       Course       Sport  Amount First Name Last Name\n",
       "0      Ibrahim Musa   24      Physics    Football   20000    Ibrahim      Musa\n",
       "1        Emeka Jude   25   Statistics  Volletball   25000      Emeka      Jude\n",
       "2  Emmanuel Ayomide   27  Mathematics    Swimming   20000   Emmanuel   Ayomide\n",
       "3        Nnamdi Ike   24    Chemistry  BasketBall  456000     Nnamdi       Ike"
      ]
     },
     "execution_count": 23,
     "metadata": {},
     "output_type": "execute_result"
    }
   ],
   "source": [
    "new_table.head()"
   ]
  },
  {
   "cell_type": "code",
   "execution_count": 25,
   "id": "e04745fc",
   "metadata": {},
   "outputs": [
    {
     "data": {
      "text/plain": [
       "0     20000.0\n",
       "1     25000.0\n",
       "2     20000.0\n",
       "3    456000.0\n",
       "Name: Amount, dtype: float64"
      ]
     },
     "execution_count": 25,
     "metadata": {},
     "output_type": "execute_result"
    }
   ],
   "source": [
    "new_table['Amount'].astype(float)\n",
    "#You convert to float"
   ]
  },
  {
   "cell_type": "code",
   "execution_count": 26,
   "id": "82dce550",
   "metadata": {},
   "outputs": [
    {
     "data": {
      "text/plain": [
       "521000.0"
      ]
     },
     "execution_count": 26,
     "metadata": {},
     "output_type": "execute_result"
    }
   ],
   "source": [
    "new_table['Amount'].astype(float).sum()"
   ]
  },
  {
   "cell_type": "code",
   "execution_count": 27,
   "id": "ae854f95",
   "metadata": {},
   "outputs": [
    {
     "data": {
      "text/plain": [
       "0    2\n",
       "1    1\n",
       "2    2\n",
       "3    1\n",
       "Name: Name, dtype: int64"
      ]
     },
     "execution_count": 27,
     "metadata": {},
     "output_type": "execute_result"
    }
   ],
   "source": [
    "#To count the appearance of alphabets\n",
    "new_table['Name'].str.lower().str.count('a')"
   ]
  },
  {
   "cell_type": "code",
   "execution_count": 28,
   "id": "c9524169",
   "metadata": {},
   "outputs": [
    {
     "data": {
      "text/plain": [
       "0    False\n",
       "1     True\n",
       "2     True\n",
       "3    False\n",
       "Name: Name, dtype: bool"
      ]
     },
     "execution_count": 28,
     "metadata": {},
     "output_type": "execute_result"
    }
   ],
   "source": [
    "# This helps turn the text to lower case,tells if any of the word in column name starts with e \n",
    "new_table['Name'].str.lower().str.startswith('e')"
   ]
  },
  {
   "cell_type": "code",
   "execution_count": 29,
   "id": "8a420b56",
   "metadata": {},
   "outputs": [
    {
     "data": {
      "text/plain": [
       "0    False\n",
       "1     True\n",
       "2     True\n",
       "3     True\n",
       "Name: Name, dtype: bool"
      ]
     },
     "execution_count": 29,
     "metadata": {},
     "output_type": "execute_result"
    }
   ],
   "source": [
    "new_table['Name'].str.lower().str.endswith('e')"
   ]
  },
  {
   "cell_type": "code",
   "execution_count": 30,
   "id": "ed12dbf9",
   "metadata": {},
   "outputs": [
    {
     "data": {
      "text/plain": [
       "0   -1\n",
       "1    0\n",
       "2    0\n",
       "3    9\n",
       "Name: Name, dtype: int64"
      ]
     },
     "execution_count": 30,
     "metadata": {},
     "output_type": "execute_result"
    }
   ],
   "source": [
    "new_table['Name'].str.lower().str.find('e')"
   ]
  },
  {
   "cell_type": "code",
   "execution_count": null,
   "id": "bda9860e",
   "metadata": {},
   "outputs": [],
   "source": []
  }
 ],
 "metadata": {
  "kernelspec": {
   "display_name": "Python 3",
   "language": "python",
   "name": "python3"
  },
  "language_info": {
   "codemirror_mode": {
    "name": "ipython",
    "version": 3
   },
   "file_extension": ".py",
   "mimetype": "text/x-python",
   "name": "python",
   "nbconvert_exporter": "python",
   "pygments_lexer": "ipython3",
   "version": "3.8.8"
  }
 },
 "nbformat": 4,
 "nbformat_minor": 5
}
