{
 "cells": [
  {
   "cell_type": "code",
   "execution_count": 1,
   "id": "1068db0e",
   "metadata": {},
   "outputs": [],
   "source": [
    "import numpy as np\n",
    "import pandas as pd\n"
   ]
  },
  {
   "cell_type": "code",
   "execution_count": 2,
   "id": "b4afef9c",
   "metadata": {},
   "outputs": [
    {
     "ename": "SyntaxError",
     "evalue": "unmatched ']' (<ipython-input-2-3780fc54ac05>, line 1)",
     "output_type": "error",
     "traceback": [
      "\u001b[1;36m  File \u001b[1;32m\"<ipython-input-2-3780fc54ac05>\"\u001b[1;36m, line \u001b[1;32m1\u001b[0m\n\u001b[1;33m    state ='Lagos','Delta','Kaduna']\u001b[0m\n\u001b[1;37m                                   ^\u001b[0m\n\u001b[1;31mSyntaxError\u001b[0m\u001b[1;31m:\u001b[0m unmatched ']'\n"
     ]
    }
   ],
   "source": [
    "state ='Lagos','Delta','Kaduna']\n",
    "capital = ['Ikeja','Asaba','Kaduna']"
   ]
  },
  {
   "cell_type": "raw",
   "id": "6a466243",
   "metadata": {},
   "source": [
    "ser = pd.Series(data = capital, index = state)"
   ]
  },
  {
   "cell_type": "code",
   "execution_count": null,
   "id": "7ef4947f",
   "metadata": {},
   "outputs": [],
   "source": [
    "ser"
   ]
  },
  {
   "cell_type": "code",
   "execution_count": 10,
   "id": "77182d6a",
   "metadata": {},
   "outputs": [],
   "source": [
    "stat_dict = {\n",
    "    'Lagos':'Ikeja',\n",
    "    'Delta':'Asaba',\n",
    "    'Kaduna':'Kaduna'\n",
    "}"
   ]
  },
  {
   "cell_type": "code",
   "execution_count": 11,
   "id": "b00eecfc",
   "metadata": {},
   "outputs": [],
   "source": [
    "ser = pd.Series(stat_dict)"
   ]
  },
  {
   "cell_type": "code",
   "execution_count": 12,
   "id": "cb900f24",
   "metadata": {},
   "outputs": [
    {
     "data": {
      "text/plain": [
       "Lagos      Ikeja\n",
       "Delta      Asaba\n",
       "Kaduna    Kaduna\n",
       "dtype: object"
      ]
     },
     "execution_count": 12,
     "metadata": {},
     "output_type": "execute_result"
    }
   ],
   "source": [
    "ser"
   ]
  },
  {
   "cell_type": "code",
   "execution_count": 13,
   "id": "4d701910",
   "metadata": {},
   "outputs": [],
   "source": [
    "arr = np.arange(1,10)"
   ]
  },
  {
   "cell_type": "code",
   "execution_count": 14,
   "id": "8f2a5b30",
   "metadata": {},
   "outputs": [
    {
     "data": {
      "text/plain": [
       "array([1, 2, 3, 4, 5, 6, 7, 8, 9])"
      ]
     },
     "execution_count": 14,
     "metadata": {},
     "output_type": "execute_result"
    }
   ],
   "source": [
    "arr"
   ]
  },
  {
   "cell_type": "code",
   "execution_count": 15,
   "id": "3dfbe8cf",
   "metadata": {},
   "outputs": [],
   "source": [
    "ser = pd.Series(arr)"
   ]
  },
  {
   "cell_type": "code",
   "execution_count": 16,
   "id": "39e2211a",
   "metadata": {},
   "outputs": [
    {
     "data": {
      "text/plain": [
       "0    1\n",
       "1    2\n",
       "2    3\n",
       "3    4\n",
       "4    5\n",
       "5    6\n",
       "6    7\n",
       "7    8\n",
       "8    9\n",
       "dtype: int32"
      ]
     },
     "execution_count": 16,
     "metadata": {},
     "output_type": "execute_result"
    }
   ],
   "source": [
    "ser"
   ]
  },
  {
   "cell_type": "code",
   "execution_count": 17,
   "id": "d68bb764",
   "metadata": {},
   "outputs": [],
   "source": [
    "arr1 = np.random.randn(5)"
   ]
  },
  {
   "cell_type": "code",
   "execution_count": 18,
   "id": "283fd6f7",
   "metadata": {},
   "outputs": [
    {
     "data": {
      "text/plain": [
       "array([-0.99969398,  1.48044655, -0.1899566 , -1.28027248, -0.55422493])"
      ]
     },
     "execution_count": 18,
     "metadata": {},
     "output_type": "execute_result"
    }
   ],
   "source": [
    "arr1"
   ]
  },
  {
   "cell_type": "code",
   "execution_count": 19,
   "id": "e1090d75",
   "metadata": {},
   "outputs": [
    {
     "data": {
      "text/plain": [
       "[1, 2, 3, 4, 5, 6, 7, 8, 9]"
      ]
     },
     "execution_count": 19,
     "metadata": {},
     "output_type": "execute_result"
    }
   ],
   "source": [
    "list(ser)"
   ]
  },
  {
   "cell_type": "code",
   "execution_count": 20,
   "id": "673cd814",
   "metadata": {},
   "outputs": [],
   "source": [
    "stat_dict = {\n",
    "    'Lagos':'Ikeja',\n",
    "    'Delta':'Asaba',\n",
    "    'Kaduna':'Kaduna'\n",
    "}"
   ]
  },
  {
   "cell_type": "code",
   "execution_count": null,
   "id": "90ed9cfc",
   "metadata": {},
   "outputs": [],
   "source": []
  }
 ],
 "metadata": {
  "kernelspec": {
   "display_name": "Python 3",
   "language": "python",
   "name": "python3"
  },
  "language_info": {
   "codemirror_mode": {
    "name": "ipython",
    "version": 3
   },
   "file_extension": ".py",
   "mimetype": "text/x-python",
   "name": "python",
   "nbconvert_exporter": "python",
   "pygments_lexer": "ipython3",
   "version": "3.8.8"
  }
 },
 "nbformat": 4,
 "nbformat_minor": 5
}
